{
 "cells": [
  {
   "attachments": {},
   "cell_type": "markdown",
   "metadata": {},
   "source": [
    "TUPLE"
   ]
  },
  {
   "cell_type": "code",
   "execution_count": 1,
   "metadata": {},
   "outputs": [
    {
     "name": "stdout",
     "output_type": "stream",
     "text": [
      "(9, 1, 1, 3)\n",
      "('Mission', 'Impossible')\n",
      "(9, 1, 1, 3, 'Mission', 'Impossible')\n"
     ]
    }
   ],
   "source": [
    "tuple1=(9,1,1,3)\n",
    "tuple2=(\"Mission\",\"Impossible\")\n",
    "tuple3=tuple1+tuple2\n",
    "print(tuple1)\n",
    "print(tuple2)\n",
    "print(tuple3)"
   ]
  },
  {
   "cell_type": "code",
   "execution_count": 2,
   "metadata": {},
   "outputs": [
    {
     "name": "stdout",
     "output_type": "stream",
     "text": [
      "Rise of Transformers\n",
      "str to tuple ('R', 'i', 's', 'e', ' ', 'o', 'f', ' ', 'T', 'r', 'a', 'n', 's', 'f', 'o', 'r', 'm', 'e', 'r', 's')\n"
     ]
    }
   ],
   "source": [
    "str1=(\"Rise of Transformers\")\n",
    "print(str1)\n",
    "t1=tuple(str1)\n",
    "print(\"str to tuple\",t1)"
   ]
  },
  {
   "cell_type": "code",
   "execution_count": 3,
   "metadata": {},
   "outputs": [
    {
     "name": "stdout",
     "output_type": "stream",
     "text": [
      "\tAvengers\tInfinity\tWar\n"
     ]
    }
   ],
   "source": [
    "t1=(\"\\tAvengers\")\n",
    "t2=(\"\\tInfinity\")\n",
    "t3=(\"\\tWar\")\n",
    "t4=t1+t2\n",
    "t5=t4+t3\n",
    "print(t5)"
   ]
  },
  {
   "cell_type": "code",
   "execution_count": 4,
   "metadata": {},
   "outputs": [
    {
     "name": "stdout",
     "output_type": "stream",
     "text": [
      "494\n"
     ]
    }
   ],
   "source": [
    "numbers=(12,23,34,45,56,67,78,89,90)\n",
    "sum=sum(numbers)\n",
    "print(sum)"
   ]
  },
  {
   "cell_type": "code",
   "execution_count": 5,
   "metadata": {},
   "outputs": [
    {
     "name": "stdout",
     "output_type": "stream",
     "text": [
      "90\n"
     ]
    }
   ],
   "source": [
    "val1=90\n",
    "val2=89\n",
    "val3=88\n",
    "max_val=max(val1,val2,val3)\n",
    "print(max_val)"
   ]
  },
  {
   "attachments": {},
   "cell_type": "markdown",
   "metadata": {},
   "source": [
    "Set"
   ]
  },
  {
   "cell_type": "code",
   "execution_count": 6,
   "metadata": {},
   "outputs": [
    {
     "name": "stdout",
     "output_type": "stream",
     "text": [
      "{'i', 'a', 'c', 'l', 'I', 'r', 'f', ' ', 'n', 'A', 'g', 't', 'e'}\n"
     ]
    }
   ],
   "source": [
    "set1=set(\"Artificial Intelligence\")\n",
    "print(set1)"
   ]
  },
  {
   "cell_type": "code",
   "execution_count": 7,
   "metadata": {},
   "outputs": [
    {
     "name": "stdout",
     "output_type": "stream",
     "text": [
      "People: {'NEW', 'Sam', 'Shai'}\n"
     ]
    }
   ],
   "source": [
    "people = {\"Sam\", \"Shai\", \"NEW\"}\n",
    "print(\"People:\", end = \" \")\n",
    "print(people)"
   ]
  },
  {
   "cell_type": "code",
   "execution_count": 11,
   "metadata": {},
   "outputs": [
    {
     "name": "stdout",
     "output_type": "stream",
     "text": [
      "{1, 2, 3, 4, 5, 6, 7, 8, 9, 10}\n"
     ]
    }
   ],
   "source": [
    "set2=set()\n",
    "set2.add(8)\n",
    "set2.add(9)\n",
    "set2.add(10)\n",
    "for i in range(1,8):\n",
    "    set2.add(i)\n",
    "print(set2)"
   ]
  },
  {
   "cell_type": "code",
   "execution_count": 12,
   "metadata": {},
   "outputs": [
    {
     "name": "stdout",
     "output_type": "stream",
     "text": [
      "<class 'set'>\n",
      "{1, 2, 3, 4, 5}\n",
      "{6, 7, 8, 9, 10}\n"
     ]
    }
   ],
   "source": [
    "set1=set()\n",
    "set2=set()\n",
    "\n",
    "for i in range(1,6):\n",
    "    set1.add(i)\n",
    "\n",
    "for i in range(6,11):\n",
    "    set2.add(i)\n",
    "\n",
    "set5=set1<set2\n",
    "print(set)\n",
    "\n",
    "\n",
    "\n",
    "print(set1)\n",
    "print(set2)"
   ]
  }
 ],
 "metadata": {
  "kernelspec": {
   "display_name": "Python 3",
   "language": "python",
   "name": "python3"
  },
  "language_info": {
   "codemirror_mode": {
    "name": "ipython",
    "version": 3
   },
   "file_extension": ".py",
   "mimetype": "text/x-python",
   "name": "python",
   "nbconvert_exporter": "python",
   "pygments_lexer": "ipython3",
   "version": "3.10.4"
  },
  "orig_nbformat": 4
 },
 "nbformat": 4,
 "nbformat_minor": 2
}
